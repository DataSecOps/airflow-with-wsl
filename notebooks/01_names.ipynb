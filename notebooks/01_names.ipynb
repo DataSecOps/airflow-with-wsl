{
 "cells": [
  {
   "cell_type": "code",
   "execution_count": 1,
   "metadata": {},
   "outputs": [],
   "source": [
    "import pandas as pd\n",
    "\n",
    "# data taken from https://dane.gov.pl/pl/dataset/219,imiona-nadawane-dzieciom-w-polsce \n",
    "# regarding names given in 2023 for males and females\n",
    "m_names_csv = '/mnt/e/airflow-with-wsl/data/males_name_2023.csv' # you must adjust path\n",
    "f_names_csv = '/mnt/e/airflow-with-wsl/data/females_name_2023.csv'  # you must adjust path"
   ]
  },
  {
   "cell_type": "code",
   "execution_count": 2,
   "metadata": {},
   "outputs": [],
   "source": [
    "m_df = pd.read_csv(m_names_csv)\n",
    "f_df = pd.read_csv(f_names_csv)"
   ]
  },
  {
   "cell_type": "code",
   "execution_count": 4,
   "metadata": {},
   "outputs": [],
   "source": [
    "# put on the screen text that freqency is not properly used here but it's just for sake for concise\n",
    "m_df.rename(columns={'IMIĘ_PIERWSZE': 'first_name', 'PŁEĆ': 'sex', 'LICZBA_WYSTĄPIEŃ' : 'frequency' }, inplace=True) \n",
    "f_df.rename(columns={'IMIĘ_PIERWSZE': 'first_name', 'PŁEĆ': 'sex', 'LICZBA_WYSTĄPIEŃ' : 'frequency' }, inplace=True) "
   ]
  },
  {
   "cell_type": "code",
   "execution_count": 9,
   "metadata": {},
   "outputs": [],
   "source": [
    "m_df['sex'] = m_df['sex'].replace('MĘŻCZYZNA', 'M')\n",
    "f_df['sex'] = f_df['sex'].replace('KOBIETA', 'F')"
   ]
  },
  {
   "cell_type": "code",
   "execution_count": null,
   "metadata": {},
   "outputs": [],
   "source": [
    "m_df = pd.concat([m_df.iloc[0:3], m_df.iloc[m_df.count()[0] - 3 : m_df.count()[0]]], ignore_index=True)\n",
    "f_df = pd.concat([f_df.iloc[0:3], f_df.iloc[f_df.count()[0] - 3 : f_df.count()[0]]], ignore_index=True)"
   ]
  },
  {
   "cell_type": "code",
   "execution_count": 36,
   "metadata": {},
   "outputs": [],
   "source": [
    "df = pd.concat([m_df, f_df], ignore_index=True)"
   ]
  },
  {
   "cell_type": "code",
   "execution_count": 40,
   "metadata": {},
   "outputs": [],
   "source": [
    "df.sort_values(by=['frequency'], ascending=False, inplace=True)"
   ]
  },
  {
   "cell_type": "code",
   "execution_count": 53,
   "metadata": {},
   "outputs": [],
   "source": [
    "with open('output.txt', 'w') as file:\n",
    "    file.write(df[df['sex'] == 'M'].to_string(index=False))"
   ]
  },
  {
   "cell_type": "code",
   "execution_count": 54,
   "metadata": {},
   "outputs": [],
   "source": [
    "with open('output.txt', 'a') as file:\n",
    "    file.write('\\n\\n ============================== \\n\\n')"
   ]
  },
  {
   "cell_type": "code",
   "execution_count": 55,
   "metadata": {},
   "outputs": [],
   "source": [
    "with open('output.txt', 'a') as file:\n",
    "    file.write(df[df['sex'] == 'F'].to_string(index=False))"
   ]
  }
 ],
 "metadata": {
  "kernelspec": {
   "display_name": "Python 3",
   "language": "python",
   "name": "python3"
  },
  "language_info": {
   "codemirror_mode": {
    "name": "ipython",
    "version": 3
   },
   "file_extension": ".py",
   "mimetype": "text/x-python",
   "name": "python",
   "nbconvert_exporter": "python",
   "pygments_lexer": "ipython3",
   "version": "3.11.1"
  }
 },
 "nbformat": 4,
 "nbformat_minor": 2
}
